{
 "cells": [
  {
   "cell_type": "code",
   "execution_count": 1,
   "metadata": {},
   "outputs": [],
   "source": [
    "import numpy as np\n",
    "import json\n",
    "import os\n",
    "import cv2\n",
    "import matplotlib.pyplot as plt\n",
    "%matplotlib inline\n",
    "\n",
    "from IPython.display import clear_output\n",
    "from easydict import EasyDict as edict"
   ]
  },
  {
   "cell_type": "code",
   "execution_count": 8,
   "metadata": {},
   "outputs": [],
   "source": [
    "DATASET_PATH = '/home/ivan/Documents/antares_mount/0_datasets/0_trainval_datasets/dji/20190905_json17_testing'\n",
    "SAVE_PATH = '/home/ivan/Documents/6_projects/dist_cnn/dataset/augmented/raw'\n",
    "RANDOM_CROP_SIZE = 64\n",
    "BASE_CROP_SIZE = 96"
   ]
  },
  {
   "cell_type": "code",
   "execution_count": 4,
   "metadata": {},
   "outputs": [],
   "source": [
    "def get_data(file_name):\n",
    "    with open(txt_path) as f:\n",
    "        raw_data = json.load(f)\n",
    "        \n",
    "    data = edict({})\n",
    "    data.im_h = raw_data['Camera']['Height']\n",
    "    data.im_w = raw_data['Camera']['Width']\n",
    "    data.objects = []\n",
    "    for obj in raw_data['Objects']:\n",
    "        o = edict({})\n",
    "        o.cls = cls = obj['Name']\n",
    "        o.region = obj['Regions'][0]\n",
    "        o.pos_x_3d = float(obj['Position']['x'])\n",
    "        o.pos_y_3d = float(obj['Position']['y'])\n",
    "        o.pos_z_3d = float(obj['Position']['z'])\n",
    "        o.distance = get_dist((o.pos_x_3d, o.pos_y_3d, o.pos_z_3d))\n",
    "        o.w = int(o.region['VisibleBox']['W'])\n",
    "        o.h = int(o.region['VisibleBox']['H'])\n",
    "        o.x_ctr = int(o.region['VisibleBox']['X'] + o.w / 2)\n",
    "        o.y_ctr = int(data.im_h - 1 -(o.region['VisibleBox']['Y'] + o.h / 2))\n",
    "        data.objects.append(o)\n",
    "    return data"
   ]
  },
  {
   "cell_type": "code",
   "execution_count": 9,
   "metadata": {},
   "outputs": [],
   "source": [
    "def get_crop_roi(x_ctr, y_ctr, w, h):\n",
    "    mult = max(w, h) // 40 + 1  # 40 - depends on the base crop size\n",
    "    crop_size = BASE_CROP_SIZE * mult\n",
    "    \n",
    "    left = int(x_ctr - crop_size / 2)\n",
    "    right = int(x_ctr + crop_size / 2)\n",
    "    top = int(y_ctr - crop_size / 2)\n",
    "    bottom = int(y_ctr + crop_size / 2)\n",
    "    return left, right, top, bottom, mult"
   ]
  },
  {
   "cell_type": "code",
   "execution_count": 10,
   "metadata": {},
   "outputs": [],
   "source": [
    "def get_dist(point):\n",
    "    return np.sqrt(np.square(point[0]) + np.square(point[1]) + np.square(point[2]))"
   ]
  },
  {
   "cell_type": "code",
   "execution_count": 11,
   "metadata": {},
   "outputs": [],
   "source": [
    "def get_crops_from_image(img_path, txt_path, labels):\n",
    "    img = cv2.imread(img_path)\n",
    "    data = get_data(txt_path)\n",
    "    obj_num = 0\n",
    "    for o in data.objects:\n",
    "        left, right, top, bottom, mult = get_crop_roi(o.x_ctr, o.y_ctr, o.w, o.h)\n",
    "        \n",
    "        if (left < 0) \\\n",
    "        or (top < 0) \\\n",
    "        or (right >= data.im_w - 1) \\\n",
    "        or (bottom >= data.im_h - 1):\n",
    "            continue\n",
    "            \n",
    "        cropped_img = img[top:bottom, left:right, :]\n",
    "        dir_name = img_path.split('/')[-2]\n",
    "        image_name = img_path.split('/')[-1].split('.')\n",
    "        image_name = '_'.join([dir_name, image_name[0], str(obj_num), '.' + image_name[1]])\n",
    "        labels.append({'name': image_name, 'dist': o.distance, 'mult': mult})\n",
    "        imgs_save_path = os.path.join(SAVE_PATH, image_name)\n",
    "        cv2.imwrite(imgs_save_path, cropped_img)\n",
    "        \n",
    "        obj_num += 1"
   ]
  },
  {
   "cell_type": "code",
   "execution_count": 12,
   "metadata": {},
   "outputs": [
    {
     "name": "stdout",
     "output_type": "stream",
     "text": [
      "88d732a18d6625ba_rgb.png\n",
      "2000/2000, 100 %\n",
      "Ready. Total images: 85710\n"
     ]
    }
   ],
   "source": [
    "data = {'data': []}\n",
    " \n",
    "for foldername in os.listdir(DATASET_PATH):\n",
    "    folderpath = os.path.join(DATASET_PATH, foldername)\n",
    "    file_num = 0\n",
    "    folder_num = int(foldername[3])\n",
    "    total_files = len(os.listdir(folderpath)) // 2\n",
    "    \n",
    "    for filename in os.listdir(folderpath):\n",
    "        if filename.endswith('.png'):\n",
    "            img_path = os.path.join(folderpath, filename)\n",
    "            txt_path = os.path.join(folderpath, filename[:-8] + '.txt')\n",
    "            \n",
    "            get_crops_from_image(img_path, txt_path, data['data'])\n",
    "                \n",
    "            file_num += 1\n",
    "            clear_output(wait=True)\n",
    "            print(filename)\n",
    "            print(f'{file_num}/{total_files},', file_num * 100 // total_files, '%', )\n",
    "            \n",
    "    print('Ready. Total images:', len(os.listdir(SAVE_PATH)))\n",
    "labels_path = os.path.join(SAVE_PATH, 'labels.json')\n",
    "with open(labels_path, 'w+') as labels:\n",
    "    json.dump(data, labels)"
   ]
  },
  {
   "cell_type": "markdown",
   "metadata": {},
   "source": [
    "img = cv2.imread('/home/ivan/Documents/6_projects/dist_cnn/dataset/lev1_88d731dd2c550936_rgb_0_.png')\n",
    "plt.imshow(cv2.cvtColor(img, cv2.COLOR_BGR2RGB))"
   ]
  },
  {
   "cell_type": "markdown",
   "metadata": {},
   "source": [
    "plt.rcParams['figure.figsize'] = [10, 5]\n",
    "plt.scatter([x['dist'] for x in data['data']],[x['mult'] for x in data['data']])"
   ]
  },
  {
   "cell_type": "markdown",
   "metadata": {},
   "source": [
    "plt.hist([x['dist'] for x in data['data']], bins=20)"
   ]
  },
  {
   "cell_type": "code",
   "execution_count": 7,
   "metadata": {},
   "outputs": [],
   "source": [
    "with open(os.path.join(SAVE_PATH, 'full', 'labels.json')) as labels:\n",
    "    labels = json.load(labels)['data']"
   ]
  },
  {
   "cell_type": "code",
   "execution_count": 10,
   "metadata": {},
   "outputs": [
    {
     "data": {
      "text/plain": [
       "array([{'name': 'lev4_88d73204f3e693c6_rgb_9_.png', 'dist': 101.3549417112076, 'mult': 1},\n",
       "       {'name': 'lev4_88d732076134f7ea_rgb_1_.png', 'dist': 122.9247345327901, 'mult': 1},\n",
       "       {'name': 'lev4_88d732015cca578c_rgb_6_.png', 'dist': 168.18839710766431, 'mult': 1},\n",
       "       {'name': 'lev5_88d7320ddb1c7eb0_rgb_7_.png', 'dist': 280.9280404000206, 'mult': 1},\n",
       "       {'name': 'lev5_88d7320cf5f45614_rgb_8_.png', 'dist': 236.62530147634214, 'mult': 1},\n",
       "       {'name': 'lev4_88d7320624eac658_rgb_1_.png', 'dist': 115.25165277610472, 'mult': 1},\n",
       "       {'name': 'lev3_88d731f382747df4_rgb_0_.png', 'dist': 74.10063978368407, 'mult': 1},\n",
       "       {'name': 'lev5_88d732944311fea6_rgb_3_.png', 'dist': 222.00252570096768, 'mult': 1},\n",
       "       {'name': 'lev6_88d7329b815c52e0_rgb_2_.png', 'dist': 436.8495070691849, 'mult': 1},\n",
       "       {'name': 'lev6_88d7329e560f2b78_rgb_1_.png', 'dist': 481.76139568884696, 'mult': 1}],\n",
       "      dtype=object)"
      ]
     },
     "execution_count": 10,
     "metadata": {},
     "output_type": "execute_result"
    }
   ],
   "source": [
    "labels = [x for x in labels if x['mult'] == 1]\n",
    "samples = np.random.choice(labels, 10)\n"
   ]
  },
  {
   "cell_type": "code",
   "execution_count": 20,
   "metadata": {},
   "outputs": [],
   "source": [
    "%%bash\n",
    "cp dataset/full/lev6_88d7329e560f2b78_rgb_1_.png dataset/sanity_check/"
   ]
  },
  {
   "cell_type": "code",
   "execution_count": 26,
   "metadata": {},
   "outputs": [],
   "source": [
    "with open(os.path.join(SAVE_PATH, 'sanity_check', 'labels.json'), 'w+') as labels:\n",
    "    labels = json.dump({'data': samples.tolist()}, labels)"
   ]
  },
  {
   "cell_type": "code",
   "execution_count": null,
   "metadata": {},
   "outputs": [],
   "source": []
  }
 ],
 "metadata": {
  "kernelspec": {
   "display_name": "Python 3",
   "language": "python",
   "name": "python3"
  },
  "language_info": {
   "codemirror_mode": {
    "name": "ipython",
    "version": 3
   },
   "file_extension": ".py",
   "mimetype": "text/x-python",
   "name": "python",
   "nbconvert_exporter": "python",
   "pygments_lexer": "ipython3",
   "version": "3.6.9"
  }
 },
 "nbformat": 4,
 "nbformat_minor": 2
}
