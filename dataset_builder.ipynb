{
 "cells": [
  {
   "cell_type": "code",
   "execution_count": 1,
   "metadata": {},
   "outputs": [],
   "source": [
    "import numpy as np\n",
    "import json\n",
    "import os\n",
    "import cv2\n",
    "import pylab as plt"
   ]
  },
  {
   "cell_type": "code",
   "execution_count": 2,
   "metadata": {},
   "outputs": [],
   "source": [
    "dataset_path = '/media/mv/Data/0_work/3_antares_mount/0_datasets/0_trainval_datasets/dji/20191030_json18_for_crop'"
   ]
  },
  {
   "cell_type": "code",
   "execution_count": 11,
   "metadata": {},
   "outputs": [],
   "source": [
    "save_path = '/media/mv/Data/0_work/0_datasets/dji_cropped/full/lev1_25_2'"
   ]
  },
  {
   "cell_type": "code",
   "execution_count": null,
   "metadata": {},
   "outputs": [
    {
     "name": "stdout",
     "output_type": "stream",
     "text": [
      "100\n",
      "200\n",
      "300\n",
      "400\n",
      "500\n",
      "600\n"
     ]
    }
   ],
   "source": [
    "# folder_num = 1\n",
    "for foldername in os.listdir(dataset_path):\n",
    "    if foldername != 'lev1_25_2':\n",
    "        continue\n",
    "    folderpath = os.path.join(dataset_path, foldername)\n",
    "    obj_num = 0\n",
    "    folder_num = int(foldername[3])\n",
    "    for filename in os.listdir(folderpath):\n",
    "        if filename[-4:] == '.png':\n",
    "            img_path = os.path.join(folderpath, filename)\n",
    "            txt_path = os.path.join(folderpath, filename[:-8] + '.txt')\n",
    "            \n",
    "            img = cv2.imread(img_path)\n",
    "            with open(txt_path) as f:\n",
    "                data = json.load(f)\n",
    "\n",
    "            im_h, im_w = data['Camera']['Height'], data['Camera']['Width']\n",
    "            \n",
    "            for obj in data['Objects']:\n",
    "                cls = obj['Name']\n",
    "                obj_params = obj['Regions'][0]\n",
    "                pos_x_3d = float(obj['Position']['x'])\n",
    "                pos_y_3d = float(obj['Position']['y'])\n",
    "                pos_z_3d = float(obj['Position']['z'])\n",
    "                obj_distance = np.sqrt(np.square(pos_x_3d) + np.square(pos_y_3d) + np.square(pos_z_3d))\n",
    "                x_ctr = int(obj_params['VisibleBox']['X'] + obj_params['VisibleBox']['W'] / 2)\n",
    "                y_ctr = int(im_h - 1 -(obj_params['VisibleBox']['Y'] + obj_params['VisibleBox']['H'] / 2))\n",
    "                w = int(obj_params['VisibleBox']['W'])\n",
    "                h = int(obj_params['VisibleBox']['H'])\n",
    "                max_wh = max(w, h)\n",
    "                crop_size = (max_wh // (256/4) + 1) * (256/4*7)\n",
    "                if (x_ctr > im_w - crop_size/2) or (x_ctr < crop_size/2) or (y_ctr > im_h - crop_size/2) or (y_ctr < crop_size/2):\n",
    "                    continue\n",
    "                cropped_img = img[int(y_ctr-crop_size/2):int(y_ctr+crop_size/2), int(x_ctr-crop_size/2):int(x_ctr+crop_size/2), :]\n",
    "                imgs_save_path = os.path.join(save_path, f'{folder_num:02}_{obj_num:08}.png')\n",
    "                cv2.imwrite(imgs_save_path, cropped_img)\n",
    "                x_ctr, y_ctr = crop_size/2, crop_size/2\n",
    "                to_dump_data = {'crop_size': crop_size, 'cls': cls, 'x_ctr': x_ctr, 'y_ctr': y_ctr, 'width': w, 'height': h, 'distance': obj_distance}\n",
    "                txt_save_path = os.path.join(save_path, f'{folder_num:02}_{obj_num:08}.txt')\n",
    "                with open(txt_save_path, 'w') as f:\n",
    "                    f.write(json.dumps(to_dump_data))\n",
    "                obj_num += 1\n",
    "                if obj_num % 100 == 0:\n",
    "                    print(obj_num)\n",
    "#     folder_num += 1"
   ]
  },
  {
   "cell_type": "code",
   "execution_count": 14,
   "metadata": {},
   "outputs": [
    {
     "name": "stdout",
     "output_type": "stream",
     "text": [
      "1344.0\n"
     ]
    }
   ],
   "source": [
    "max_wh = 130\n",
    "crop_size = (max_wh // (256/4) + 1) * (256/4*7)\n",
    "print(crop_size)"
   ]
  },
  {
   "cell_type": "code",
   "execution_count": 53,
   "metadata": {},
   "outputs": [],
   "source": [
    "img = cv2.imread('/media/mv/Data/0_work/0_datasets/temp/cropped/00000003.jpg')\n",
    "with open('/media/mv/Data/0_work/0_datasets/temp/cropped/00000003.txt') as f:\n",
    "    data = json.load(f)"
   ]
  },
  {
   "cell_type": "code",
   "execution_count": 54,
   "metadata": {},
   "outputs": [
    {
     "data": {
      "text/plain": [
       "True"
      ]
     },
     "execution_count": 54,
     "metadata": {},
     "output_type": "execute_result"
    }
   ],
   "source": [
    "x1 = int(data['x_ctr'] - data['width'] / 2)\n",
    "x2 = int(data['x_ctr'] + data['width'] / 2)\n",
    "y1 = int(data['y_ctr'] - data['height'] / 2)\n",
    "y2 = int(data['y_ctr'] + data['height'] / 2)\n",
    "cv2.rectangle(img, (x1, y1), (x2, y2), (255, 0, 0), thickness=1)\n",
    "\n",
    "cv2.imwrite('/media/mv/Data/0_work/0_datasets/temp/cropped/00000003_1.jpg', img)"
   ]
  },
  {
   "cell_type": "code",
   "execution_count": 6,
   "metadata": {},
   "outputs": [],
   "source": [
    "a = np.vstack((a, a))"
   ]
  },
  {
   "cell_type": "code",
   "execution_count": 7,
   "metadata": {},
   "outputs": [
    {
     "data": {
      "text/plain": [
       "(2, 128, 128, 3)"
      ]
     },
     "execution_count": 7,
     "metadata": {},
     "output_type": "execute_result"
    }
   ],
   "source": [
    "a.shape"
   ]
  },
  {
   "cell_type": "code",
   "execution_count": null,
   "metadata": {},
   "outputs": [],
   "source": []
  }
 ],
 "metadata": {
  "kernelspec": {
   "display_name": "Python 3",
   "language": "python",
   "name": "python3"
  },
  "language_info": {
   "codemirror_mode": {
    "name": "ipython",
    "version": 3
   },
   "file_extension": ".py",
   "mimetype": "text/x-python",
   "name": "python",
   "nbconvert_exporter": "python",
   "pygments_lexer": "ipython3",
   "version": "3.6.9"
  }
 },
 "nbformat": 4,
 "nbformat_minor": 2
}
