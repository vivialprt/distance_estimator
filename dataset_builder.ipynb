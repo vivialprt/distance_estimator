{
 "cells": [
  {
   "cell_type": "code",
   "execution_count": 91,
   "metadata": {},
   "outputs": [],
   "source": [
    "import numpy as np\n",
    "import json\n",
    "import os\n",
    "import cv2\n",
    "import matplotlib.pyplot as plt\n",
    "%matplotlib inline\n",
    "\n",
    "from IPython.display import clear_output\n",
    "from easydict import EasyDict as edict"
   ]
  },
  {
   "cell_type": "code",
   "execution_count": 129,
   "metadata": {},
   "outputs": [],
   "source": [
    "DATASET_PATH = '/home/ivan/Documents/antares_mount/0_datasets/0_trainval_datasets/dji/20190905_json17_testing'\n",
    "SAVE_PATH = '/home/ivan/Documents/6_projects/dist_cnn/dataset'\n",
    "CROP_BASE_SIZE = 64"
   ]
  },
  {
   "cell_type": "code",
   "execution_count": 130,
   "metadata": {},
   "outputs": [],
   "source": [
    "def get_data(file_name):\n",
    "    with open(txt_path) as f:\n",
    "        raw_data = json.load(f)\n",
    "        \n",
    "    data = edict({})\n",
    "    data.im_h = raw_data['Camera']['Height']\n",
    "    data.im_w = raw_data['Camera']['Width']\n",
    "    data.objects = []\n",
    "    for obj in raw_data['Objects']:\n",
    "        o = edict({})\n",
    "        o.cls = cls = obj['Name']\n",
    "        o.region = obj['Regions'][0]\n",
    "        o.pos_x_3d = float(obj['Position']['x'])\n",
    "        o.pos_y_3d = float(obj['Position']['y'])\n",
    "        o.pos_z_3d = float(obj['Position']['z'])\n",
    "        o.distance = get_dist((o.pos_x_3d, o.pos_y_3d, o.pos_z_3d))\n",
    "        o.w = int(o.region['VisibleBox']['W'])\n",
    "        o.h = int(o.region['VisibleBox']['H'])\n",
    "        o.x_ctr = int(o.region['VisibleBox']['X'] + o.w / 2)\n",
    "        o.y_ctr = int(data.im_h - 1 -(o.region['VisibleBox']['Y'] + o.h / 2))\n",
    "        data.objects.append(o)\n",
    "    return data"
   ]
  },
  {
   "cell_type": "code",
   "execution_count": 131,
   "metadata": {},
   "outputs": [],
   "source": [
    "def get_crop_roi(x_ctr, y_ctr, w, h):\n",
    "    crop_size = CROP_BASE_SIZE\n",
    "    mult = 1\n",
    "    while crop_size < w or crop_size < h:\n",
    "        mult += 1\n",
    "        crop_size += CROP_BASE_SIZE\n",
    "        \n",
    "    left = int(x_ctr - crop_size / 2)\n",
    "    right = int(x_ctr + crop_size / 2)\n",
    "    top = int(y_ctr - crop_size / 2)\n",
    "    bottom = int(y_ctr + crop_size / 2)\n",
    "    return left, right, top, bottom, mult"
   ]
  },
  {
   "cell_type": "code",
   "execution_count": 132,
   "metadata": {},
   "outputs": [],
   "source": [
    "def get_dist(point):\n",
    "    return np.sqrt(np.square(point[0]) + np.square(point[1]) + np.square(point[2]))"
   ]
  },
  {
   "cell_type": "code",
   "execution_count": 133,
   "metadata": {},
   "outputs": [],
   "source": [
    "def get_crops_from_image(img_path, txt_path, labels):\n",
    "    img = cv2.imread(img_path)\n",
    "    data = get_data(txt_path)\n",
    "    obj_num = 0\n",
    "    for o in data.objects:\n",
    "        left, right, top, bottom, mult = get_crop_roi(o.x_ctr, o.y_ctr, o.w, o.h)\n",
    "        \n",
    "        if (left < 0) \\\n",
    "        or (top < 0) \\\n",
    "        or (right >= data.im_w - 1) \\\n",
    "        or (bottom >= data.im_h - 1):\n",
    "            continue\n",
    "            \n",
    "        cropped_img = img[top:bottom, left:right, :]\n",
    "        dir_name = img_path.split('/')[-2]\n",
    "        image_name = img_path.split('/')[-1].split('.')\n",
    "        image_name = '_'.join([dir_name, image_name[0], str(obj_num), '.' + image_name[1]])\n",
    "        labels.append({'name': image_name, 'dist': o.distance, 'mult': mult})\n",
    "        imgs_save_path = os.path.join(SAVE_PATH, image_name)\n",
    "        cv2.imwrite(imgs_save_path, cropped_img)\n",
    "        \n",
    "        obj_num += 1"
   ]
  },
  {
   "cell_type": "code",
   "execution_count": 134,
   "metadata": {},
   "outputs": [
    {
     "name": "stdout",
     "output_type": "stream",
     "text": [
      "88d732a18d6625ba_rgb.png\n",
      "2000/2000, 100 %\n",
      "Ready. Total images: 90687\n"
     ]
    }
   ],
   "source": [
    "data = {'data': []}\n",
    " \n",
    "for foldername in os.listdir(DATASET_PATH):\n",
    "    folderpath = os.path.join(DATASET_PATH, foldername)\n",
    "    file_num = 0\n",
    "    folder_num = int(foldername[3])\n",
    "    total_files = len(os.listdir(folderpath)) // 2\n",
    "    \n",
    "    for filename in os.listdir(folderpath):\n",
    "        if filename.endswith('.png'):\n",
    "            img_path = os.path.join(folderpath, filename)\n",
    "            txt_path = os.path.join(folderpath, filename[:-8] + '.txt')\n",
    "            \n",
    "            get_crops_from_image(img_path, txt_path, data['data'])\n",
    "                \n",
    "            file_num += 1\n",
    "            clear_output(wait=True)\n",
    "            print(filename)\n",
    "            print(f'{file_num}/{total_files},', file_num * 100 // total_files, '%', )\n",
    "            \n",
    "    print('Ready. Total images:', len(os.listdir(SAVE_PATH)))\n",
    "labels_path = os.path.join(SAVE_PATH, 'labels.json')\n",
    "with open(labels_path, 'w+') as labels:\n",
    "    json.dump(data, labels)"
   ]
  },
  {
   "cell_type": "code",
   "execution_count": 83,
   "metadata": {},
   "outputs": [
    {
     "ename": "error",
     "evalue": "OpenCV(3.4.4) /home/ivan/opencv-3.4.4/modules/imgproc/src/color.cpp:181: error: (-215:Assertion failed) !_src.empty() in function 'cvtColor'\n",
     "output_type": "error",
     "traceback": [
      "\u001b[0;31m---------------------------------------------------------------------------\u001b[0m",
      "\u001b[0;31merror\u001b[0m                                     Traceback (most recent call last)",
      "\u001b[0;32m<ipython-input-83-cdb96edb5f36>\u001b[0m in \u001b[0;36m<module>\u001b[0;34m\u001b[0m\n\u001b[1;32m      1\u001b[0m \u001b[0mimg\u001b[0m \u001b[0;34m=\u001b[0m \u001b[0mcv2\u001b[0m\u001b[0;34m.\u001b[0m\u001b[0mimread\u001b[0m\u001b[0;34m(\u001b[0m\u001b[0;34m'/home/ivan/Documents/6_projects/dist_cnn/dataset/lev1_88d731dd2c550936_rgb_0_.png'\u001b[0m\u001b[0;34m)\u001b[0m\u001b[0;34m\u001b[0m\u001b[0;34m\u001b[0m\u001b[0m\n\u001b[0;32m----> 2\u001b[0;31m \u001b[0mplt\u001b[0m\u001b[0;34m.\u001b[0m\u001b[0mimshow\u001b[0m\u001b[0;34m(\u001b[0m\u001b[0mcv2\u001b[0m\u001b[0;34m.\u001b[0m\u001b[0mcvtColor\u001b[0m\u001b[0;34m(\u001b[0m\u001b[0mimg\u001b[0m\u001b[0;34m,\u001b[0m \u001b[0mcv2\u001b[0m\u001b[0;34m.\u001b[0m\u001b[0mCOLOR_BGR2RGB\u001b[0m\u001b[0;34m)\u001b[0m\u001b[0;34m)\u001b[0m\u001b[0;34m\u001b[0m\u001b[0;34m\u001b[0m\u001b[0m\n\u001b[0m",
      "\u001b[0;31merror\u001b[0m: OpenCV(3.4.4) /home/ivan/opencv-3.4.4/modules/imgproc/src/color.cpp:181: error: (-215:Assertion failed) !_src.empty() in function 'cvtColor'\n"
     ]
    }
   ],
   "source": [
    "img = cv2.imread('/home/ivan/Documents/6_projects/dist_cnn/dataset/lev1_88d731dd2c550936_rgb_0_.png')\n",
    "plt.imshow(cv2.cvtColor(img, cv2.COLOR_BGR2RGB))"
   ]
  },
  {
   "cell_type": "code",
   "execution_count": 135,
   "metadata": {},
   "outputs": [
    {
     "data": {
      "text/plain": [
       "<matplotlib.collections.PathCollection at 0x7f79f1871be0>"
      ]
     },
     "execution_count": 135,
     "metadata": {},
     "output_type": "execute_result"
    },
    {
     "data": {
      "image/png": "[encoded data removed]",
      "text/plain": [
       "<Figure size 720x360 with 1 Axes>"
      ]
     },
     "metadata": {
      "needs_background": "light"
     },
     "output_type": "display_data"
    }
   ],
   "source": [
    "plt.rcParams['figure.figsize'] = [10, 5]\n",
    "plt.scatter([x['dist'] for x in data['data']],[x['mult'] for x in data['data']])"
   ]
  },
  {
   "cell_type": "code",
   "execution_count": 137,
   "metadata": {},
   "outputs": [
    {
     "data": {
      "text/plain": [
       "(array([14800., 14839.,  9070.,  7704.,  6642.,  3782.,  3800.,  3765.,\n",
       "         3881.,  3468.,  1942.,  1975.,  1948.,  1916.,  1887.,  1912.,\n",
       "         1886.,  1841.,  1847.,  1782.]),\n",
       " array([ 12.50918543,  52.17472666,  91.84026788, 131.50580911,\n",
       "        171.17135034, 210.83689157, 250.5024328 , 290.16797402,\n",
       "        329.83351525, 369.49905648, 409.16459771, 448.83013894,\n",
       "        488.49568016, 528.16122139, 567.82676262, 607.49230385,\n",
       "        647.15784508, 686.8233863 , 726.48892753, 766.15446876,\n",
       "        805.82000999]),\n",
       " <a list of 20 Patch objects>)"
      ]
     },
     "execution_count": 137,
     "metadata": {},
     "output_type": "execute_result"
    },
    {
     "data": {
      "image/png": "[encoded data removed]",
      "text/plain": [
       "<Figure size 720x360 with 1 Axes>"
      ]
     },
     "metadata": {
      "needs_background": "light"
     },
     "output_type": "display_data"
    }
   ],
   "source": [
    "plt.hist([x['dist'] for x in data['data']], bins=20)"
   ]
  },
  {
   "cell_type": "code",
   "execution_count": null,
   "metadata": {},
   "outputs": [],
   "source": []
  }
 ],
 "metadata": {
  "kernelspec": {
   "display_name": "Python 3",
   "language": "python",
   "name": "python3"
  },
  "language_info": {
   "codemirror_mode": {
    "name": "ipython",
    "version": 3
   },
   "file_extension": ".py",
   "mimetype": "text/x-python",
   "name": "python",
   "nbconvert_exporter": "python",
   "pygments_lexer": "ipython3",
   "version": "3.6.8"
  }
 },
 "nbformat": 4,
 "nbformat_minor": 2
}
