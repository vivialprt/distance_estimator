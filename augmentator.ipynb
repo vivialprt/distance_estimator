{
 "cells": [
  {
   "cell_type": "code",
   "execution_count": 1,
   "metadata": {},
   "outputs": [],
   "source": [
    "import numpy as np\n",
    "import json\n",
    "import os\n",
    "import cv2\n",
    "import matplotlib.pyplot as plt\n",
    "%matplotlib inline\n",
    "\n",
    "from IPython.display import clear_output\n",
    "from albumentations.augmentations.transforms import Blur, RandomCrop, HueSaturationValue, ToGray"
   ]
  },
  {
   "cell_type": "code",
   "execution_count": 2,
   "metadata": {},
   "outputs": [],
   "source": [
    "DATASET_PATH = '/home/ivan/Documents/6_projects/dist_cnn/dataset/augmented/raw'\n",
    "SAVE_PATH = '/home/ivan/Documents/6_projects/dist_cnn/dataset/augmented/processed'\n",
    "RANDOM_CROP_SIZE = 64\n",
    "BASE_CROP_SIZE = 96"
   ]
  },
  {
   "cell_type": "code",
   "execution_count": 3,
   "metadata": {},
   "outputs": [],
   "source": [
    "def show_image(image, size=(4,4)):\n",
    "    fig, ax = plt.subplots(figsize=size)\n",
    "    ax.grid(False)\n",
    "    ax.set_yticklabels([])\n",
    "    ax.set_xticklabels([])\n",
    "    ax.imshow(image)\n",
    "    plt.imshow(image)"
   ]
  },
  {
   "cell_type": "code",
   "execution_count": 4,
   "metadata": {},
   "outputs": [
    {
     "name": "stdout",
     "output_type": "stream",
     "text": [
      "85710\n",
      "50745\n"
     ]
    }
   ],
   "source": [
    "with open(os.path.join(DATASET_PATH, 'labels.json')) as lbs:\n",
    "    data = json.load(lbs)['data']\n",
    "print(len(data))\n",
    "data = [x for x in data if x['mult'] == 1]\n",
    "print(len(data))"
   ]
  },
  {
   "cell_type": "code",
   "execution_count": 31,
   "metadata": {},
   "outputs": [
    {
     "name": "stdout",
     "output_type": "stream",
     "text": [
      "(64, 64, 3)\n"
     ]
    },
    {
     "data": {
      "image/png": "[encoded data removed]",
      "image/svg+xml": [
       "<?xml version=\"1.0\" encoding=\"utf-8\" standalone=\"no\"?>\n",
       "<!DOCTYPE svg PUBLIC \"-//W3C//DTD SVG 1.1//EN\"\n",
       "  \"http://www.w3.org/Graphics/SVG/1.1/DTD/svg11.dtd\">\n",
       "<!-- Created with matplotlib (https://matplotlib.org/) -->\n",
       "<svg height=\"235.34pt\" version=\"1.1\" viewBox=\"0 0 235.34 235.34\" width=\"235.34pt\" xmlns=\"http://www.w3.org/2000/svg\" xmlns:xlink=\"http://www.w3.org/1999/xlink\">\n",
       " <defs>\n",
       "  <style type=\"text/css\">\n",
       "*{stroke-linecap:butt;stroke-linejoin:round;}\n",
       "  </style>\n",
       " </defs>\n",
       " <g id=\"figure_1\">\n",
       "  <g id=\"patch_1\">\n",
       "   <path d=\"M 0 235.34 \n",
       "L 235.34 235.34 \n",
       "L 235.34 0 \n",
       "L 0 0 \n",
       "z\n",
       "\" style=\"fill:none;\"/>\n",
       "  </g>\n",
       "  <g id=\"axes_1\">\n",
       "   <g id=\"patch_2\">\n",
       "    <path d=\"M 10.7 224.64 \n",
       "L 228.14 224.64 \n",
       "L 228.14 7.2 \n",
       "L 10.7 7.2 \n",
       "z\n",
       "\" style=\"fill:#ffffff;\"/>\n",
       "   </g>\n",
       "   <g clip-path=\"url(#pc40c7a5454)\">\n",
       "    <image height=\"218\" id=\"imagecb778c6653\" transform=\"scale(1 -1)translate(0 -218)\" width=\"218\" x=\"11\" xlink:href=\"data:image/png;base64,\n",
       "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\" y=\"-6.34\"/>\n",
       "   </g>\n",
       "   <g id=\"matplotlib.axis_1\">\n",
       "    <g id=\"xtick_1\">\n",
       "     <g id=\"line2d_1\">\n",
       "      <defs>\n",
       "       <path d=\"M 0 0 \n",
       "L 0 3.5 \n",
       "\" id=\"mffdfa7e438\" style=\"stroke:#000000;stroke-width:0.8;\"/>\n",
       "      </defs>\n",
       "      <g>\n",
       "       <use style=\"stroke:#000000;stroke-width:0.8;\" x=\"12.39875\" xlink:href=\"#mffdfa7e438\" y=\"224.64\"/>\n",
       "      </g>\n",
       "     </g>\n",
       "    </g>\n",
       "    <g id=\"xtick_2\">\n",
       "     <g id=\"line2d_2\">\n",
       "      <g>\n",
       "       <use style=\"stroke:#000000;stroke-width:0.8;\" x=\"46.37375\" xlink:href=\"#mffdfa7e438\" y=\"224.64\"/>\n",
       "      </g>\n",
       "     </g>\n",
       "    </g>\n",
       "    <g id=\"xtick_3\">\n",
       "     <g id=\"line2d_3\">\n",
       "      <g>\n",
       "       <use style=\"stroke:#000000;stroke-width:0.8;\" x=\"80.34875\" xlink:href=\"#mffdfa7e438\" y=\"224.64\"/>\n",
       "      </g>\n",
       "     </g>\n",
       "    </g>\n",
       "    <g id=\"xtick_4\">\n",
       "     <g id=\"line2d_4\">\n",
       "      <g>\n",
       "       <use style=\"stroke:#000000;stroke-width:0.8;\" x=\"114.32375\" xlink:href=\"#mffdfa7e438\" y=\"224.64\"/>\n",
       "      </g>\n",
       "     </g>\n",
       "    </g>\n",
       "    <g id=\"xtick_5\">\n",
       "     <g id=\"line2d_5\">\n",
       "      <g>\n",
       "       <use style=\"stroke:#000000;stroke-width:0.8;\" x=\"148.29875\" xlink:href=\"#mffdfa7e438\" y=\"224.64\"/>\n",
       "      </g>\n",
       "     </g>\n",
       "    </g>\n",
       "    <g id=\"xtick_6\">\n",
       "     <g id=\"line2d_6\">\n",
       "      <g>\n",
       "       <use style=\"stroke:#000000;stroke-width:0.8;\" x=\"182.27375\" xlink:href=\"#mffdfa7e438\" y=\"224.64\"/>\n",
       "      </g>\n",
       "     </g>\n",
       "    </g>\n",
       "    <g id=\"xtick_7\">\n",
       "     <g id=\"line2d_7\">\n",
       "      <g>\n",
       "       <use style=\"stroke:#000000;stroke-width:0.8;\" x=\"216.24875\" xlink:href=\"#mffdfa7e438\" y=\"224.64\"/>\n",
       "      </g>\n",
       "     </g>\n",
       "    </g>\n",
       "   </g>\n",
       "   <g id=\"matplotlib.axis_2\">\n",
       "    <g id=\"ytick_1\">\n",
       "     <g id=\"line2d_8\">\n",
       "      <defs>\n",
       "       <path d=\"M 0 0 \n",
       "L -3.5 0 \n",
       "\" id=\"m1c6fba0474\" style=\"stroke:#000000;stroke-width:0.8;\"/>\n",
       "      </defs>\n",
       "      <g>\n",
       "       <use style=\"stroke:#000000;stroke-width:0.8;\" x=\"10.7\" xlink:href=\"#m1c6fba0474\" y=\"8.89875\"/>\n",
       "      </g>\n",
       "     </g>\n",
       "    </g>\n",
       "    <g id=\"ytick_2\">\n",
       "     <g id=\"line2d_9\">\n",
       "      <g>\n",
       "       <use style=\"stroke:#000000;stroke-width:0.8;\" x=\"10.7\" xlink:href=\"#m1c6fba0474\" y=\"42.87375\"/>\n",
       "      </g>\n",
       "     </g>\n",
       "    </g>\n",
       "    <g id=\"ytick_3\">\n",
       "     <g id=\"line2d_10\">\n",
       "      <g>\n",
       "       <use style=\"stroke:#000000;stroke-width:0.8;\" x=\"10.7\" xlink:href=\"#m1c6fba0474\" y=\"76.84875\"/>\n",
       "      </g>\n",
       "     </g>\n",
       "    </g>\n",
       "    <g id=\"ytick_4\">\n",
       "     <g id=\"line2d_11\">\n",
       "      <g>\n",
       "       <use style=\"stroke:#000000;stroke-width:0.8;\" x=\"10.7\" xlink:href=\"#m1c6fba0474\" y=\"110.82375\"/>\n",
       "      </g>\n",
       "     </g>\n",
       "    </g>\n",
       "    <g id=\"ytick_5\">\n",
       "     <g id=\"line2d_12\">\n",
       "      <g>\n",
       "       <use style=\"stroke:#000000;stroke-width:0.8;\" x=\"10.7\" xlink:href=\"#m1c6fba0474\" y=\"144.79875\"/>\n",
       "      </g>\n",
       "     </g>\n",
       "    </g>\n",
       "    <g id=\"ytick_6\">\n",
       "     <g id=\"line2d_13\">\n",
       "      <g>\n",
       "       <use style=\"stroke:#000000;stroke-width:0.8;\" x=\"10.7\" xlink:href=\"#m1c6fba0474\" y=\"178.77375\"/>\n",
       "      </g>\n",
       "     </g>\n",
       "    </g>\n",
       "    <g id=\"ytick_7\">\n",
       "     <g id=\"line2d_14\">\n",
       "      <g>\n",
       "       <use style=\"stroke:#000000;stroke-width:0.8;\" x=\"10.7\" xlink:href=\"#m1c6fba0474\" y=\"212.74875\"/>\n",
       "      </g>\n",
       "     </g>\n",
       "    </g>\n",
       "   </g>\n",
       "   <g id=\"patch_3\">\n",
       "    <path d=\"M 10.7 224.64 \n",
       "L 10.7 7.2 \n",
       "\" style=\"fill:none;stroke:#000000;stroke-linecap:square;stroke-linejoin:miter;stroke-width:0.8;\"/>\n",
       "   </g>\n",
       "   <g id=\"patch_4\">\n",
       "    <path d=\"M 228.14 224.64 \n",
       "L 228.14 7.2 \n",
       "\" style=\"fill:none;stroke:#000000;stroke-linecap:square;stroke-linejoin:miter;stroke-width:0.8;\"/>\n",
       "   </g>\n",
       "   <g id=\"patch_5\">\n",
       "    <path d=\"M 10.7 224.64 \n",
       "L 228.14 224.64 \n",
       "\" style=\"fill:none;stroke:#000000;stroke-linecap:square;stroke-linejoin:miter;stroke-width:0.8;\"/>\n",
       "   </g>\n",
       "   <g id=\"patch_6\">\n",
       "    <path d=\"M 10.7 7.2 \n",
       "L 228.14 7.2 \n",
       "\" style=\"fill:none;stroke:#000000;stroke-linecap:square;stroke-linejoin:miter;stroke-width:0.8;\"/>\n",
       "   </g>\n",
       "  </g>\n",
       " </g>\n",
       " <defs>\n",
       "  <clipPath id=\"pc40c7a5454\">\n",
       "   <rect height=\"217.44\" width=\"217.44\" x=\"10.7\" y=\"7.2\"/>\n",
       "  </clipPath>\n",
       " </defs>\n",
       "</svg>\n"
      ],
      "text/plain": [
       "<Figure size 288x288 with 1 Axes>"
      ]
     },
     "metadata": {
      "needs_background": "light"
     },
     "output_type": "display_data"
    }
   ],
   "source": [
    "blur = Blur(p=0.9, blur_limit=7)\n",
    "hsv = HueSaturationValue(p=0.9)\n",
    "crop = RandomCrop(p=1, height=RANDOM_CROP_SIZE, width=RANDOM_CROP_SIZE)\n",
    "gray = ToGray(p=1)\n",
    "im = cv2.imread(DATASET_PATH + '/' + data[300]['name'])\n",
    "im = blur.apply(im, **blur.get_params())\n",
    "im = hsv.apply(im, **hsv.get_params())\n",
    "im = crop.apply(im, **crop.get_params())\n",
    "im = gray.apply(im, **gray.get_params())\n",
    "print(im.shape)\n",
    "show_image(im)"
   ]
  },
  {
   "cell_type": "code",
   "execution_count": 63,
   "metadata": {},
   "outputs": [
    {
     "data": {
      "image/png": "[encoded data removed]",
      "text/plain": [
       "<Figure size 288x288 with 1 Axes>"
      ]
     },
     "metadata": {
      "needs_background": "light"
     },
     "output_type": "display_data"
    }
   ],
   "source": [
    "im2 = cv2.imread('/home/ivan/Documents/6_projects/dist_cnn/dataset/real_data/frame_16895.jpg')\n",
    "show_image(im2)"
   ]
  },
  {
   "cell_type": "code",
   "execution_count": null,
   "metadata": {},
   "outputs": [],
   "source": []
  }
 ],
 "metadata": {
  "kernelspec": {
   "display_name": "Python 3",
   "language": "python",
   "name": "python3"
  },
  "language_info": {
   "codemirror_mode": {
    "name": "ipython",
    "version": 3
   },
   "file_extension": ".py",
   "mimetype": "text/x-python",
   "name": "python",
   "nbconvert_exporter": "python",
   "pygments_lexer": "ipython3",
   "version": "3.6.9"
  }
 },
 "nbformat": 4,
 "nbformat_minor": 2
}
